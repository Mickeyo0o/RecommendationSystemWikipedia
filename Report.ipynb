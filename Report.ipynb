{
 "cells": [
  {
   "cell_type": "markdown",
   "metadata": {},
   "source": [
    "# Recommendation system for Wikipedia articles."
   ]
  },
  {
   "cell_type": "markdown",
   "metadata": {},
   "source": [
    "### Necessary imports"
   ]
  },
  {
   "cell_type": "code",
   "execution_count": 1,
   "metadata": {},
   "outputs": [],
   "source": [
    "import pandas as pd\n",
    "from sklearn.metrics.pairwise import cosine_similarity\n",
    "from sklearn.cluster import KMeans\n",
    "import requests\n",
    "from bs4 import BeautifulSoup\n",
    "import numpy as np\n",
    "import plotly.express as px\n",
    "import seaborn as sns\n",
    "import matplotlib.pyplot as plt\n",
    "from plotly.subplots import make_subplots\n",
    "import sys  \n",
    "\n",
    "sys.path.insert(1, './scrapy/')\n",
    "\n",
    "from one_page_scrapper import OnePageScrapper"
   ]
  },
  {
   "cell_type": "markdown",
   "metadata": {},
   "source": [
    "## Crawling and scraping data"
   ]
  },
  {
   "cell_type": "markdown",
   "metadata": {},
   "source": [
    "Crawling is done with the scrapy library, the script is located in /scrapy/scrap.py. It takes in a list of URLs of wikipedia articles and a number that denotes the desired number of pages to scrap (Approximate, since some sites cannot be scrapped for different reasons). The passed URLs serve as starting points for the scrapping process. For every website, the script loads in the text in the title element, as well as the text inside the content container. The data is then saved in a pandas DataFrame."
   ]
  },
  {
   "cell_type": "markdown",
   "metadata": {},
   "source": [
    "## Tokenization, lemmatization and transformation of data"
   ]
  },
  {
   "cell_type": "markdown",
   "metadata": {},
   "source": [
    "This process takes place inside the scrapping script described above. Once all websites are scrapped, the text from title and content elements are tokenized with the word_tokenize function from nltk.tokenize module. The stopwords are then removed (the list of stopwords comes from nltk.corpus.stopwords). At the end, the remaining tokens are lemmatized using WordNetLemmatizer. Then, two TfidfVectorizer models are trained - one of them is trained on the text that comes from title elements, the second one is trained on the content text. The hyperparameters for those models are as follows:\n",
    "* Title:\n",
    "    * Minimum token frequency: 2\n",
    "    * Considered ngrams: 1, 2\n",
    "* Content:\n",
    "    * Minimum token frequency: 15\n",
    "    * Considered ngrams: 1\n",
    "\n",
    "The data is then transformed using a corresponding vectorizer and is saved to two .csv files - content_transformed.csv and titles_transformed.csv"
   ]
  },
  {
   "cell_type": "markdown",
   "metadata": {},
   "source": [
    "### Reading the data into the notebook \n",
    "After the process of stemmatization and lemmatization the database was stored as a .csv file which now we will read into this notebook. There are 2 different dataframes, first one contains content of all the scraped websites, the second the titles of the scraped websites."
   ]
  },
  {
   "cell_type": "code",
   "execution_count": 2,
   "metadata": {},
   "outputs": [
    {
     "data": {
      "text/html": [
       "<div>\n",
       "<style scoped>\n",
       "    .dataframe tbody tr th:only-of-type {\n",
       "        vertical-align: middle;\n",
       "    }\n",
       "\n",
       "    .dataframe tbody tr th {\n",
       "        vertical-align: top;\n",
       "    }\n",
       "\n",
       "    .dataframe thead th {\n",
       "        text-align: right;\n",
       "    }\n",
       "</style>\n",
       "<table border=\"1\" class=\"dataframe\">\n",
       "  <thead>\n",
       "    <tr style=\"text-align: right;\">\n",
       "      <th></th>\n",
       "      <th>URL</th>\n",
       "      <th>00</th>\n",
       "      <th>000</th>\n",
       "      <th>01</th>\n",
       "      <th>02</th>\n",
       "      <th>03</th>\n",
       "      <th>04</th>\n",
       "      <th>05</th>\n",
       "      <th>06</th>\n",
       "      <th>07</th>\n",
       "      <th>...</th>\n",
       "      <th>younger</th>\n",
       "      <th>youngest</th>\n",
       "      <th>your</th>\n",
       "      <th>youth</th>\n",
       "      <th>youtube</th>\n",
       "      <th>yugoslavia</th>\n",
       "      <th>zealand</th>\n",
       "      <th>zero</th>\n",
       "      <th>zone</th>\n",
       "      <th>zones</th>\n",
       "    </tr>\n",
       "  </thead>\n",
       "  <tbody>\n",
       "    <tr>\n",
       "      <th>0</th>\n",
       "      <td>https://en.wikipedia.org/wiki/Herb</td>\n",
       "      <td>0.0</td>\n",
       "      <td>0.007294</td>\n",
       "      <td>0.0</td>\n",
       "      <td>0.0</td>\n",
       "      <td>0.0</td>\n",
       "      <td>0.000000</td>\n",
       "      <td>0.0</td>\n",
       "      <td>0.000000</td>\n",
       "      <td>0.0</td>\n",
       "      <td>...</td>\n",
       "      <td>0.000000</td>\n",
       "      <td>0.0</td>\n",
       "      <td>0.0</td>\n",
       "      <td>0.000000</td>\n",
       "      <td>0.000000</td>\n",
       "      <td>0.0</td>\n",
       "      <td>0.0</td>\n",
       "      <td>0.00000</td>\n",
       "      <td>0.014318</td>\n",
       "      <td>0.000000</td>\n",
       "    </tr>\n",
       "    <tr>\n",
       "      <th>1</th>\n",
       "      <td>https://en.wikipedia.org/wiki/FSO_Polonez</td>\n",
       "      <td>0.0</td>\n",
       "      <td>0.022615</td>\n",
       "      <td>0.0</td>\n",
       "      <td>0.0</td>\n",
       "      <td>0.0</td>\n",
       "      <td>0.000000</td>\n",
       "      <td>0.0</td>\n",
       "      <td>0.000000</td>\n",
       "      <td>0.0</td>\n",
       "      <td>...</td>\n",
       "      <td>0.000000</td>\n",
       "      <td>0.0</td>\n",
       "      <td>0.0</td>\n",
       "      <td>0.000000</td>\n",
       "      <td>0.000000</td>\n",
       "      <td>0.0</td>\n",
       "      <td>0.0</td>\n",
       "      <td>0.00000</td>\n",
       "      <td>0.000000</td>\n",
       "      <td>0.000000</td>\n",
       "    </tr>\n",
       "    <tr>\n",
       "      <th>2</th>\n",
       "      <td>https://en.wikipedia.org/wiki/Minecraft</td>\n",
       "      <td>0.0</td>\n",
       "      <td>0.011572</td>\n",
       "      <td>0.0</td>\n",
       "      <td>0.0</td>\n",
       "      <td>0.0</td>\n",
       "      <td>0.000000</td>\n",
       "      <td>0.0</td>\n",
       "      <td>0.000000</td>\n",
       "      <td>0.0</td>\n",
       "      <td>...</td>\n",
       "      <td>0.002815</td>\n",
       "      <td>0.0</td>\n",
       "      <td>0.0</td>\n",
       "      <td>0.000000</td>\n",
       "      <td>0.048371</td>\n",
       "      <td>0.0</td>\n",
       "      <td>0.0</td>\n",
       "      <td>0.00000</td>\n",
       "      <td>0.000000</td>\n",
       "      <td>0.000000</td>\n",
       "    </tr>\n",
       "    <tr>\n",
       "      <th>3</th>\n",
       "      <td>https://en.wikipedia.org/wiki/Cambodia</td>\n",
       "      <td>0.0</td>\n",
       "      <td>0.026013</td>\n",
       "      <td>0.0</td>\n",
       "      <td>0.0</td>\n",
       "      <td>0.0</td>\n",
       "      <td>0.003091</td>\n",
       "      <td>0.0</td>\n",
       "      <td>0.000000</td>\n",
       "      <td>0.0</td>\n",
       "      <td>...</td>\n",
       "      <td>0.002013</td>\n",
       "      <td>0.0</td>\n",
       "      <td>0.0</td>\n",
       "      <td>0.006628</td>\n",
       "      <td>0.000000</td>\n",
       "      <td>0.0</td>\n",
       "      <td>0.0</td>\n",
       "      <td>0.00000</td>\n",
       "      <td>0.000000</td>\n",
       "      <td>0.000000</td>\n",
       "    </tr>\n",
       "    <tr>\n",
       "      <th>4</th>\n",
       "      <td>https://en.wikipedia.org/wiki/Real_Madrid_CF</td>\n",
       "      <td>0.0</td>\n",
       "      <td>0.011587</td>\n",
       "      <td>0.0</td>\n",
       "      <td>0.0</td>\n",
       "      <td>0.0</td>\n",
       "      <td>0.000000</td>\n",
       "      <td>0.0</td>\n",
       "      <td>0.002393</td>\n",
       "      <td>0.0</td>\n",
       "      <td>...</td>\n",
       "      <td>0.000000</td>\n",
       "      <td>0.0</td>\n",
       "      <td>0.0</td>\n",
       "      <td>0.003608</td>\n",
       "      <td>0.000000</td>\n",
       "      <td>0.0</td>\n",
       "      <td>0.0</td>\n",
       "      <td>0.00209</td>\n",
       "      <td>0.000000</td>\n",
       "      <td>0.000000</td>\n",
       "    </tr>\n",
       "    <tr>\n",
       "      <th>...</th>\n",
       "      <td>...</td>\n",
       "      <td>...</td>\n",
       "      <td>...</td>\n",
       "      <td>...</td>\n",
       "      <td>...</td>\n",
       "      <td>...</td>\n",
       "      <td>...</td>\n",
       "      <td>...</td>\n",
       "      <td>...</td>\n",
       "      <td>...</td>\n",
       "      <td>...</td>\n",
       "      <td>...</td>\n",
       "      <td>...</td>\n",
       "      <td>...</td>\n",
       "      <td>...</td>\n",
       "      <td>...</td>\n",
       "      <td>...</td>\n",
       "      <td>...</td>\n",
       "      <td>...</td>\n",
       "      <td>...</td>\n",
       "      <td>...</td>\n",
       "    </tr>\n",
       "    <tr>\n",
       "      <th>1221</th>\n",
       "      <td>https://en.wikipedia.org/wiki/Vegetables</td>\n",
       "      <td>0.0</td>\n",
       "      <td>0.018449</td>\n",
       "      <td>0.0</td>\n",
       "      <td>0.0</td>\n",
       "      <td>0.0</td>\n",
       "      <td>0.000000</td>\n",
       "      <td>0.0</td>\n",
       "      <td>0.000000</td>\n",
       "      <td>0.0</td>\n",
       "      <td>...</td>\n",
       "      <td>0.000000</td>\n",
       "      <td>0.0</td>\n",
       "      <td>0.0</td>\n",
       "      <td>0.008618</td>\n",
       "      <td>0.000000</td>\n",
       "      <td>0.0</td>\n",
       "      <td>0.0</td>\n",
       "      <td>0.00000</td>\n",
       "      <td>0.000000</td>\n",
       "      <td>0.009985</td>\n",
       "    </tr>\n",
       "    <tr>\n",
       "      <th>1222</th>\n",
       "      <td>https://en.wikipedia.org/wiki/Mentha</td>\n",
       "      <td>0.0</td>\n",
       "      <td>0.006647</td>\n",
       "      <td>0.0</td>\n",
       "      <td>0.0</td>\n",
       "      <td>0.0</td>\n",
       "      <td>0.000000</td>\n",
       "      <td>0.0</td>\n",
       "      <td>0.000000</td>\n",
       "      <td>0.0</td>\n",
       "      <td>...</td>\n",
       "      <td>0.000000</td>\n",
       "      <td>0.0</td>\n",
       "      <td>0.0</td>\n",
       "      <td>0.000000</td>\n",
       "      <td>0.000000</td>\n",
       "      <td>0.0</td>\n",
       "      <td>0.0</td>\n",
       "      <td>0.00000</td>\n",
       "      <td>0.000000</td>\n",
       "      <td>0.000000</td>\n",
       "    </tr>\n",
       "    <tr>\n",
       "      <th>1223</th>\n",
       "      <td>https://en.wikipedia.org/wiki/Garden</td>\n",
       "      <td>0.0</td>\n",
       "      <td>0.000000</td>\n",
       "      <td>0.0</td>\n",
       "      <td>0.0</td>\n",
       "      <td>0.0</td>\n",
       "      <td>0.000000</td>\n",
       "      <td>0.0</td>\n",
       "      <td>0.000000</td>\n",
       "      <td>0.0</td>\n",
       "      <td>...</td>\n",
       "      <td>0.000000</td>\n",
       "      <td>0.0</td>\n",
       "      <td>0.0</td>\n",
       "      <td>0.000000</td>\n",
       "      <td>0.000000</td>\n",
       "      <td>0.0</td>\n",
       "      <td>0.0</td>\n",
       "      <td>0.00000</td>\n",
       "      <td>0.000000</td>\n",
       "      <td>0.000000</td>\n",
       "    </tr>\n",
       "    <tr>\n",
       "      <th>1224</th>\n",
       "      <td>https://en.wikipedia.org/wiki/Herb_(disambigua...</td>\n",
       "      <td>0.0</td>\n",
       "      <td>0.000000</td>\n",
       "      <td>0.0</td>\n",
       "      <td>0.0</td>\n",
       "      <td>0.0</td>\n",
       "      <td>0.000000</td>\n",
       "      <td>0.0</td>\n",
       "      <td>0.000000</td>\n",
       "      <td>0.0</td>\n",
       "      <td>...</td>\n",
       "      <td>0.000000</td>\n",
       "      <td>0.0</td>\n",
       "      <td>0.0</td>\n",
       "      <td>0.000000</td>\n",
       "      <td>0.000000</td>\n",
       "      <td>0.0</td>\n",
       "      <td>0.0</td>\n",
       "      <td>0.00000</td>\n",
       "      <td>0.000000</td>\n",
       "      <td>0.000000</td>\n",
       "    </tr>\n",
       "    <tr>\n",
       "      <th>1225</th>\n",
       "      <td>https://en.wikipedia.org/wiki/Herbaceous_plant</td>\n",
       "      <td>0.0</td>\n",
       "      <td>0.000000</td>\n",
       "      <td>0.0</td>\n",
       "      <td>0.0</td>\n",
       "      <td>0.0</td>\n",
       "      <td>0.000000</td>\n",
       "      <td>0.0</td>\n",
       "      <td>0.000000</td>\n",
       "      <td>0.0</td>\n",
       "      <td>...</td>\n",
       "      <td>0.000000</td>\n",
       "      <td>0.0</td>\n",
       "      <td>0.0</td>\n",
       "      <td>0.000000</td>\n",
       "      <td>0.000000</td>\n",
       "      <td>0.0</td>\n",
       "      <td>0.0</td>\n",
       "      <td>0.00000</td>\n",
       "      <td>0.023626</td>\n",
       "      <td>0.000000</td>\n",
       "    </tr>\n",
       "  </tbody>\n",
       "</table>\n",
       "<p>1226 rows × 9295 columns</p>\n",
       "</div>"
      ],
      "text/plain": [
       "                                                    URL   00       000   01  \\\n",
       "0                    https://en.wikipedia.org/wiki/Herb  0.0  0.007294  0.0   \n",
       "1             https://en.wikipedia.org/wiki/FSO_Polonez  0.0  0.022615  0.0   \n",
       "2               https://en.wikipedia.org/wiki/Minecraft  0.0  0.011572  0.0   \n",
       "3                https://en.wikipedia.org/wiki/Cambodia  0.0  0.026013  0.0   \n",
       "4          https://en.wikipedia.org/wiki/Real_Madrid_CF  0.0  0.011587  0.0   \n",
       "...                                                 ...  ...       ...  ...   \n",
       "1221           https://en.wikipedia.org/wiki/Vegetables  0.0  0.018449  0.0   \n",
       "1222               https://en.wikipedia.org/wiki/Mentha  0.0  0.006647  0.0   \n",
       "1223               https://en.wikipedia.org/wiki/Garden  0.0  0.000000  0.0   \n",
       "1224  https://en.wikipedia.org/wiki/Herb_(disambigua...  0.0  0.000000  0.0   \n",
       "1225     https://en.wikipedia.org/wiki/Herbaceous_plant  0.0  0.000000  0.0   \n",
       "\n",
       "       02   03        04   05        06   07  ...   younger  youngest  your  \\\n",
       "0     0.0  0.0  0.000000  0.0  0.000000  0.0  ...  0.000000       0.0   0.0   \n",
       "1     0.0  0.0  0.000000  0.0  0.000000  0.0  ...  0.000000       0.0   0.0   \n",
       "2     0.0  0.0  0.000000  0.0  0.000000  0.0  ...  0.002815       0.0   0.0   \n",
       "3     0.0  0.0  0.003091  0.0  0.000000  0.0  ...  0.002013       0.0   0.0   \n",
       "4     0.0  0.0  0.000000  0.0  0.002393  0.0  ...  0.000000       0.0   0.0   \n",
       "...   ...  ...       ...  ...       ...  ...  ...       ...       ...   ...   \n",
       "1221  0.0  0.0  0.000000  0.0  0.000000  0.0  ...  0.000000       0.0   0.0   \n",
       "1222  0.0  0.0  0.000000  0.0  0.000000  0.0  ...  0.000000       0.0   0.0   \n",
       "1223  0.0  0.0  0.000000  0.0  0.000000  0.0  ...  0.000000       0.0   0.0   \n",
       "1224  0.0  0.0  0.000000  0.0  0.000000  0.0  ...  0.000000       0.0   0.0   \n",
       "1225  0.0  0.0  0.000000  0.0  0.000000  0.0  ...  0.000000       0.0   0.0   \n",
       "\n",
       "         youth   youtube  yugoslavia  zealand     zero      zone     zones  \n",
       "0     0.000000  0.000000         0.0      0.0  0.00000  0.014318  0.000000  \n",
       "1     0.000000  0.000000         0.0      0.0  0.00000  0.000000  0.000000  \n",
       "2     0.000000  0.048371         0.0      0.0  0.00000  0.000000  0.000000  \n",
       "3     0.006628  0.000000         0.0      0.0  0.00000  0.000000  0.000000  \n",
       "4     0.003608  0.000000         0.0      0.0  0.00209  0.000000  0.000000  \n",
       "...        ...       ...         ...      ...      ...       ...       ...  \n",
       "1221  0.008618  0.000000         0.0      0.0  0.00000  0.000000  0.009985  \n",
       "1222  0.000000  0.000000         0.0      0.0  0.00000  0.000000  0.000000  \n",
       "1223  0.000000  0.000000         0.0      0.0  0.00000  0.000000  0.000000  \n",
       "1224  0.000000  0.000000         0.0      0.0  0.00000  0.000000  0.000000  \n",
       "1225  0.000000  0.000000         0.0      0.0  0.00000  0.023626  0.000000  \n",
       "\n",
       "[1226 rows x 9295 columns]"
      ]
     },
     "execution_count": 2,
     "metadata": {},
     "output_type": "execute_result"
    }
   ],
   "source": [
    "dfC = pd.read_csv('content_transformed.csv')\n",
    "dfT = pd.read_csv('titles_transformed.csv')\n",
    "dfC"
   ]
  },
  {
   "cell_type": "markdown",
   "metadata": {},
   "source": [
    "### Exploring the data in the database.\n",
    "Some of the plots are interactive - allow to zoom in and out or select specific objects and receive more clearly information."
   ]
  },
  {
   "cell_type": "markdown",
   "metadata": {},
   "source": [
    "First we will see the similarity between documents in terms of their contents and titles seperately."
   ]
  },
  {
   "cell_type": "code",
   "execution_count": 3,
   "metadata": {},
   "outputs": [],
   "source": [
    "sim_Content = cosine_similarity(dfC.iloc[:, 1:]) #calculate similarity between documents' contents in database \n",
    "sim_Titles = cosine_similarity(dfT.iloc[:, 1:]) #calculate similarity between documents' titles in database "
   ]
  },
  {
   "cell_type": "code",
   "execution_count": null,
   "metadata": {},
   "outputs": [],
   "source": [
    "fig1 = px.imshow(sim_Content,\n",
    "                x=dfC.index,\n",
    "                y=dfC.index,\n",
    "                labels=dict(x='Document', y='Document', color='Similarity'),\n",
    "                color_continuous_scale='Viridis')\n",
    "fig1.update_layout(title=\"Cosine Similarity between Wikipedia Pages' Contents\" ,\n",
    "                  xaxis_title='Document',\n",
    "                  yaxis_title='Document',\n",
    "                  width=800,\n",
    "                  height=600)\n",
    "\n",
    "fig2 = px.imshow(sim_Titles,\n",
    "                x=dfT.index,\n",
    "                y=dfT.index,\n",
    "                labels=dict(x='Document', y='Document', color='Similarity'),\n",
    "                color_continuous_scale='Viridis')\n",
    "fig2.update_layout(title=\"Cosine Similarity between Wikipedia Pages' Titles\" ,\n",
    "                  xaxis_title='Document',\n",
    "                  yaxis_title='Document',\n",
    "                  width=800,\n",
    "                  height=600)\n",
    "\n",
    "fig = make_subplots(rows=1, cols=2, subplot_titles=[\"Similarity of Contents\", \"Similarity of Titles\"])\n",
    "fig.add_trace(fig1.data[0], row=1, col=1)\n",
    "fig.add_trace(fig2.data[0], row=1, col=2)\n",
    "fig.update_layout(width=1200, height=600, showlegend=False)\n",
    "fig.show()"
   ]
  },
  {
   "cell_type": "markdown",
   "metadata": {},
   "source": [
    "We can notice that titles by themselves are very rarely informative in terms of similarity between two different documents. Far more information can be derived from the contents of the webpages. The graph clearly presents that data in the database is diverse, but also to some excent is similar. We can notice that even some shapes from the contents similarity can be more or less noticed in the titles similarity (e.g. document around 540 and 550 create a square of similarity on both graphs).\n",
    "\n",
    "Now let us analyze the most frequently appearing words in the whole dataset."
   ]
  },
  {
   "cell_type": "code",
   "execution_count": 5,
   "metadata": {},
   "outputs": [
    {
     "name": "stdout",
     "output_type": "stream",
     "text": [
      "Ten most frequent words in contents of webpages in our dataset:\n",
      "the     527.065065\n",
      "of      243.106714\n",
      "and     240.754196\n",
      "in      224.282678\n",
      "to      160.686326\n",
      "is      103.208143\n",
      "as       87.343954\n",
      "was      78.196213\n",
      "for      69.553494\n",
      "with     60.315416\n",
      "dtype: float64\n",
      "Ten most frequent words in titles of webpages in our dataset:\n",
      "of            34.441126\n",
      "jackson       16.943659\n",
      "cambodia      16.492053\n",
      "game          14.273126\n",
      "derbyshire    13.818806\n",
      "house         11.866874\n",
      "in            10.191801\n",
      "the           10.130416\n",
      "and            9.917410\n",
      "minecraft      9.701235\n",
      "dtype: float64\n"
     ]
    }
   ],
   "source": [
    "print(\"Ten most frequent words in contents of webpages in our dataset:\")\n",
    "print(dfC.iloc[:,1:].sum().nlargest(10))\n",
    "print(\"Ten most frequent words in titles of webpages in our dataset:\")\n",
    "print(dfT.iloc[:,1:].sum().nlargest(10))"
   ]
  },
  {
   "cell_type": "markdown",
   "metadata": {},
   "source": [
    "And finally let us analyze the number of different words in the document of our dataset."
   ]
  },
  {
   "cell_type": "code",
   "execution_count": 6,
   "metadata": {},
   "outputs": [
    {
     "data": {
      "image/png": "[encoded data removed]",
      "text/plain": [
       "<Figure size 1000x600 with 1 Axes>"
      ]
     },
     "metadata": {},
     "output_type": "display_data"
    }
   ],
   "source": [
    "df = dfC.nunique(axis=1)\n",
    "plt.figure(figsize=(10, 6))\n",
    "sns.violinplot(y=df)\n",
    "plt.xlabel('Density')\n",
    "plt.ylabel('Number of Different Words')\n",
    "plt.ylim(df.min(), df.max())\n",
    "plt.title('The density of documents according to the number of different words inside them')\n",
    "plt.show()"
   ]
  },
  {
   "cell_type": "markdown",
   "metadata": {},
   "source": [
    "## Similarities"
   ]
  },
  {
   "cell_type": "markdown",
   "metadata": {},
   "source": [
    "### Example query and number of recommendations input "
   ]
  },
  {
   "cell_type": "code",
   "execution_count": 7,
   "metadata": {},
   "outputs": [],
   "source": [
    "query = [\"https://en.wikipedia.org/wiki/Poland\",\n",
    "         \"https://en.wikipedia.org/wiki/Flag_of_Poland\",\n",
    "         \"https://en.wikipedia.org/wiki/Vampire\",\n",
    "         \"https://en.wikipedia.org/wiki/Zombie\",\n",
    "         \"https://en.wikipedia.org/wiki/Coat_of_arms_of_Poland\",]\n",
    "\n",
    "number_of_recomendations = 10"
   ]
  },
  {
   "cell_type": "markdown",
   "metadata": {},
   "source": [
    "### Scraping the query websites\n",
    "Let us scrape these websites and store all the necessary information about the contents and titles.\n",
    "\n",
    "We are scarping the data using our own class that is imported from the file one_page_scrapper.py"
   ]
  },
  {
   "cell_type": "code",
   "execution_count": 8,
   "metadata": {},
   "outputs": [],
   "source": [
    "scrapper = OnePageScrapper()\n",
    "dfQC = pd.DataFrame()\n",
    "dfQT = pd.DataFrame()\n",
    "for i in range(len(query)):\n",
    "    if not len(query) > 0 or not len(query[i]) > 0:\n",
    "        print(\"incorrect links provided\")\n",
    "    elif query[i][0:6] == 'https:':\n",
    "        res = scrapper.scrap_site(query[i]) # Scrape the given website in the query \n",
    "    else:\n",
    "        res = scrapper.scrap_site('https://en.wikipedia.org/wiki/' + query[i]) # Scrape the given website in the query \n",
    "    dfQT[f'Q{i}'] = np.append(query[i], res['title']) # divide it into title and content dataframes\n",
    "    dfQC[f'Q{i}'] = np.append(query[i], res['content'])\n",
    "\n",
    "dfQC = dfQC.T # Transpose both dataframes\n",
    "dfQT = dfQT.T\n",
    "dfQC.columns = dfC.columns # Replace the columns names with the column names from our database\n",
    "dfQT.columns = dfT.columns"
   ]
  },
  {
   "cell_type": "markdown",
   "metadata": {},
   "source": [
    "First of all we have decided to perform a KMeans algorithm on the actual query itself, as we have thought of the fact that not all the previously visited webpages by the user may be of any iterest to the user, as perhaps they could have been just a digression or a missclick.\n",
    "\n",
    "Let us test this theory on the provided example of links."
   ]
  },
  {
   "cell_type": "code",
   "execution_count": 9,
   "metadata": {},
   "outputs": [
    {
     "data": {
      "application/vnd.plotly.v1+json": {
       "config": {
        "plotlyServerURL": "https://plot.ly"
       },
       "data": [
        {
         "coloraxis": "coloraxis",
         "hovertemplate": "Document: %{x}<br>Document: %{y}<br>Similarity: %{z}<extra></extra>",
         "name": "0",
         "type": "heatmap",
         "x": [
          "Q0",
          "Q1",
          "Q2",
          "Q3",
          "Q4"
         ],
         "xaxis": "x",
         "y": [
          "Q0",
          "Q1",
          "Q2",
          "Q3",
          "Q4"
         ],
         "yaxis": "y",
         "z": [
          [
           0.9999999999999999,
           0.7276676641435748,
           0.7041674372159763,
           0.6426599942244905,
           0.7493521654177568
          ],
          [
           0.7276676641435748,
           0.9999999999999999,
           0.5822711715049896,
           0.5394135921854273,
           0.7597102224165091
          ],
          [
           0.7041674372159763,
           0.5822711715049896,
           1.0000000000000009,
           0.8275664677949791,
           0.6433685371251748
          ],
          [
           0.6426599942244905,
           0.5394135921854273,
           0.8275664677949791,
           0.9999999999999999,
           0.589158193009451
          ],
          [
           0.7493521654177568,
           0.7597102224165091,
           0.6433685371251748,
           0.589158193009451,
           1.0000000000000002
          ]
         ]
        },
        {
         "coloraxis": "coloraxis",
         "hovertemplate": "Document: %{x}<br>Document: %{y}<br>Similarity: %{z}<extra></extra>",
         "name": "0",
         "type": "heatmap",
         "x": [
          "Q0",
          "Q1",
          "Q2",
          "Q3",
          "Q4"
         ],
         "xaxis": "x2",
         "y": [
          "Q0",
          "Q1",
          "Q2",
          "Q3",
          "Q4"
         ],
         "yaxis": "y2",
         "z": [
          [
           1,
           0.8927852629170181,
           0,
           0,
           0.7038749702735044
          ],
          [
           0.8927852629170181,
           1.0000000000000002,
           0,
           0,
           0.9483976746941336
          ],
          [
           0,
           0,
           0,
           0,
           0
          ],
          [
           0,
           0,
           0,
           0,
           0
          ],
          [
           0.7038749702735044,
           0.9483976746941336,
           0,
           0,
           1
          ]
         ]
        }
       ],
       "layout": {
        "annotations": [
         {
          "font": {
           "size": 16
          },
          "showarrow": false,
          "text": "Similarity of Contents of Query",
          "x": 0.225,
          "xanchor": "center",
          "xref": "paper",
          "y": 1,
          "yanchor": "bottom",
          "yref": "paper"
         },
         {
          "font": {
           "size": 16
          },
          "showarrow": false,
          "text": "Similarity of Titles of Query",
          "x": 0.775,
          "xanchor": "center",
          "xref": "paper",
          "y": 1,
          "yanchor": "bottom",
          "yref": "paper"
         }
        ],
        "height": 600,
        "showlegend": false,
        "template": {
         "data": {
          "bar": [
           {
            "error_x": {
             "color": "#2a3f5f"
            },
            "error_y": {
             "color": "#2a3f5f"
            },
            "marker": {
             "line": {
              "color": "#E5ECF6",
              "width": 0.5
             },
             "pattern": {
              "fillmode": "overlay",
              "size": 10,
              "solidity": 0.2
             }
            },
            "type": "bar"
           }
          ],
          "barpolar": [
           {
            "marker": {
             "line": {
              "color": "#E5ECF6",
              "width": 0.5
             },
             "pattern": {
              "fillmode": "overlay",
              "size": 10,
              "solidity": 0.2
             }
            },
            "type": "barpolar"
           }
          ],
          "carpet": [
           {
            "aaxis": {
             "endlinecolor": "#2a3f5f",
             "gridcolor": "white",
             "linecolor": "white",
             "minorgridcolor": "white",
             "startlinecolor": "#2a3f5f"
            },
            "baxis": {
             "endlinecolor": "#2a3f5f",
             "gridcolor": "white",
             "linecolor": "white",
             "minorgridcolor": "white",
             "startlinecolor": "#2a3f5f"
            },
            "type": "carpet"
           }
          ],
          "choropleth": [
           {
            "colorbar": {
             "outlinewidth": 0,
             "ticks": ""
            },
            "type": "choropleth"
           }
          ],
          "contour": [
           {
            "colorbar": {
             "outlinewidth": 0,
             "ticks": ""
            },
            "colorscale": [
             [
              0,
              "#0d0887"
             ],
             [
              0.1111111111111111,
              "#46039f"
             ],
             [
              0.2222222222222222,
              "#7201a8"
             ],
             [
              0.3333333333333333,
              "#9c179e"
             ],
             [
              0.4444444444444444,
              "#bd3786"
             ],
             [
              0.5555555555555556,
              "#d8576b"
             ],
             [
              0.6666666666666666,
              "#ed7953"
             ],
             [
              0.7777777777777778,
              "#fb9f3a"
             ],
             [
              0.8888888888888888,
              "#fdca26"
             ],
             [
              1,
              "#f0f921"
             ]
            ],
            "type": "contour"
           }
          ],
          "contourcarpet": [
           {
            "colorbar": {
             "outlinewidth": 0,
             "ticks": ""
            },
            "type": "contourcarpet"
           }
          ],
          "heatmap": [
           {
            "colorbar": {
             "outlinewidth": 0,
             "ticks": ""
            },
            "colorscale": [
             [
              0,
              "#0d0887"
             ],
             [
              0.1111111111111111,
              "#46039f"
             ],
             [
              0.2222222222222222,
              "#7201a8"
             ],
             [
              0.3333333333333333,
              "#9c179e"
             ],
             [
              0.4444444444444444,
              "#bd3786"
             ],
             [
              0.5555555555555556,
              "#d8576b"
             ],
             [
              0.6666666666666666,
              "#ed7953"
             ],
             [
              0.7777777777777778,
              "#fb9f3a"
             ],
             [
              0.8888888888888888,
              "#fdca26"
             ],
             [
              1,
              "#f0f921"
             ]
            ],
            "type": "heatmap"
           }
          ],
          "heatmapgl": [
           {
            "colorbar": {
             "outlinewidth": 0,
             "ticks": ""
            },
            "colorscale": [
             [
              0,
              "#0d0887"
             ],
             [
              0.1111111111111111,
              "#46039f"
             ],
             [
              0.2222222222222222,
              "#7201a8"
             ],
             [
              0.3333333333333333,
              "#9c179e"
             ],
             [
              0.4444444444444444,
              "#bd3786"
             ],
             [
              0.5555555555555556,
              "#d8576b"
             ],
             [
              0.6666666666666666,
              "#ed7953"
             ],
             [
              0.7777777777777778,
              "#fb9f3a"
             ],
             [
              0.8888888888888888,
              "#fdca26"
             ],
             [
              1,
              "#f0f921"
             ]
            ],
            "type": "heatmapgl"
           }
          ],
          "histogram": [
           {
            "marker": {
             "pattern": {
              "fillmode": "overlay",
              "size": 10,
              "solidity": 0.2
             }
            },
            "type": "histogram"
           }
          ],
          "histogram2d": [
           {
            "colorbar": {
             "outlinewidth": 0,
             "ticks": ""
            },
            "colorscale": [
             [
              0,
              "#0d0887"
             ],
             [
              0.1111111111111111,
              "#46039f"
             ],
             [
              0.2222222222222222,
              "#7201a8"
             ],
             [
              0.3333333333333333,
              "#9c179e"
             ],
             [
              0.4444444444444444,
              "#bd3786"
             ],
             [
              0.5555555555555556,
              "#d8576b"
             ],
             [
              0.6666666666666666,
              "#ed7953"
             ],
             [
              0.7777777777777778,
              "#fb9f3a"
             ],
             [
              0.8888888888888888,
              "#fdca26"
             ],
             [
              1,
              "#f0f921"
             ]
            ],
            "type": "histogram2d"
           }
          ],
          "histogram2dcontour": [
           {
            "colorbar": {
             "outlinewidth": 0,
             "ticks": ""
            },
            "colorscale": [
             [
              0,
              "#0d0887"
             ],
             [
              0.1111111111111111,
              "#46039f"
             ],
             [
              0.2222222222222222,
              "#7201a8"
             ],
             [
              0.3333333333333333,
              "#9c179e"
             ],
             [
              0.4444444444444444,
              "#bd3786"
             ],
             [
              0.5555555555555556,
              "#d8576b"
             ],
             [
              0.6666666666666666,
              "#ed7953"
             ],
             [
              0.7777777777777778,
              "#fb9f3a"
             ],
             [
              0.8888888888888888,
              "#fdca26"
             ],
             [
              1,
              "#f0f921"
             ]
            ],
            "type": "histogram2dcontour"
           }
          ],
          "mesh3d": [
           {
            "colorbar": {
             "outlinewidth": 0,
             "ticks": ""
            },
            "type": "mesh3d"
           }
          ],
          "parcoords": [
           {
            "line": {
             "colorbar": {
              "outlinewidth": 0,
              "ticks": ""
             }
            },
            "type": "parcoords"
           }
          ],
          "pie": [
           {
            "automargin": true,
            "type": "pie"
           }
          ],
          "scatter": [
           {
            "fillpattern": {
             "fillmode": "overlay",
             "size": 10,
             "solidity": 0.2
            },
            "type": "scatter"
           }
          ],
          "scatter3d": [
           {
            "line": {
             "colorbar": {
              "outlinewidth": 0,
              "ticks": ""
             }
            },
            "marker": {
             "colorbar": {
              "outlinewidth": 0,
              "ticks": ""
             }
            },
            "type": "scatter3d"
           }
          ],
          "scattercarpet": [
           {
            "marker": {
             "colorbar": {
              "outlinewidth": 0,
              "ticks": ""
             }
            },
            "type": "scattercarpet"
           }
          ],
          "scattergeo": [
           {
            "marker": {
             "colorbar": {
              "outlinewidth": 0,
              "ticks": ""
             }
            },
            "type": "scattergeo"
           }
          ],
          "scattergl": [
           {
            "marker": {
             "colorbar": {
              "outlinewidth": 0,
              "ticks": ""
             }
            },
            "type": "scattergl"
           }
          ],
          "scattermapbox": [
           {
            "marker": {
             "colorbar": {
              "outlinewidth": 0,
              "ticks": ""
             }
            },
            "type": "scattermapbox"
           }
          ],
          "scatterpolar": [
           {
            "marker": {
             "colorbar": {
              "outlinewidth": 0,
              "ticks": ""
             }
            },
            "type": "scatterpolar"
           }
          ],
          "scatterpolargl": [
           {
            "marker": {
             "colorbar": {
              "outlinewidth": 0,
              "ticks": ""
             }
            },
            "type": "scatterpolargl"
           }
          ],
          "scatterternary": [
           {
            "marker": {
             "colorbar": {
              "outlinewidth": 0,
              "ticks": ""
             }
            },
            "type": "scatterternary"
           }
          ],
          "surface": [
           {
            "colorbar": {
             "outlinewidth": 0,
             "ticks": ""
            },
            "colorscale": [
             [
              0,
              "#0d0887"
             ],
             [
              0.1111111111111111,
              "#46039f"
             ],
             [
              0.2222222222222222,
              "#7201a8"
             ],
             [
              0.3333333333333333,
              "#9c179e"
             ],
             [
              0.4444444444444444,
              "#bd3786"
             ],
             [
              0.5555555555555556,
              "#d8576b"
             ],
             [
              0.6666666666666666,
              "#ed7953"
             ],
             [
              0.7777777777777778,
              "#fb9f3a"
             ],
             [
              0.8888888888888888,
              "#fdca26"
             ],
             [
              1,
              "#f0f921"
             ]
            ],
            "type": "surface"
           }
          ],
          "table": [
           {
            "cells": {
             "fill": {
              "color": "#EBF0F8"
             },
             "line": {
              "color": "white"
             }
            },
            "header": {
             "fill": {
              "color": "#C8D4E3"
             },
             "line": {
              "color": "white"
             }
            },
            "type": "table"
           }
          ]
         },
         "layout": {
          "annotationdefaults": {
           "arrowcolor": "#2a3f5f",
           "arrowhead": 0,
           "arrowwidth": 1
          },
          "autotypenumbers": "strict",
          "coloraxis": {
           "colorbar": {
            "outlinewidth": 0,
            "ticks": ""
           }
          },
          "colorscale": {
           "diverging": [
            [
             0,
             "#8e0152"
            ],
            [
             0.1,
             "#c51b7d"
            ],
            [
             0.2,
             "#de77ae"
            ],
            [
             0.3,
             "#f1b6da"
            ],
            [
             0.4,
             "#fde0ef"
            ],
            [
             0.5,
             "#f7f7f7"
            ],
            [
             0.6,
             "#e6f5d0"
            ],
            [
             0.7,
             "#b8e186"
            ],
            [
             0.8,
             "#7fbc41"
            ],
            [
             0.9,
             "#4d9221"
            ],
            [
             1,
             "#276419"
            ]
           ],
           "sequential": [
            [
             0,
             "#0d0887"
            ],
            [
             0.1111111111111111,
             "#46039f"
            ],
            [
             0.2222222222222222,
             "#7201a8"
            ],
            [
             0.3333333333333333,
             "#9c179e"
            ],
            [
             0.4444444444444444,
             "#bd3786"
            ],
            [
             0.5555555555555556,
             "#d8576b"
            ],
            [
             0.6666666666666666,
             "#ed7953"
            ],
            [
             0.7777777777777778,
             "#fb9f3a"
            ],
            [
             0.8888888888888888,
             "#fdca26"
            ],
            [
             1,
             "#f0f921"
            ]
           ],
           "sequentialminus": [
            [
             0,
             "#0d0887"
            ],
            [
             0.1111111111111111,
             "#46039f"
            ],
            [
             0.2222222222222222,
             "#7201a8"
            ],
            [
             0.3333333333333333,
             "#9c179e"
            ],
            [
             0.4444444444444444,
             "#bd3786"
            ],
            [
             0.5555555555555556,
             "#d8576b"
            ],
            [
             0.6666666666666666,
             "#ed7953"
            ],
            [
             0.7777777777777778,
             "#fb9f3a"
            ],
            [
             0.8888888888888888,
             "#fdca26"
            ],
            [
             1,
             "#f0f921"
            ]
           ]
          },
          "colorway": [
           "#636efa",
           "#EF553B",
           "#00cc96",
           "#ab63fa",
           "#FFA15A",
           "#19d3f3",
           "#FF6692",
           "#B6E880",
           "#FF97FF",
           "#FECB52"
          ],
          "font": {
           "color": "#2a3f5f"
          },
          "geo": {
           "bgcolor": "white",
           "lakecolor": "white",
           "landcolor": "#E5ECF6",
           "showlakes": true,
           "showland": true,
           "subunitcolor": "white"
          },
          "hoverlabel": {
           "align": "left"
          },
          "hovermode": "closest",
          "mapbox": {
           "style": "light"
          },
          "paper_bgcolor": "white",
          "plot_bgcolor": "#E5ECF6",
          "polar": {
           "angularaxis": {
            "gridcolor": "white",
            "linecolor": "white",
            "ticks": ""
           },
           "bgcolor": "#E5ECF6",
           "radialaxis": {
            "gridcolor": "white",
            "linecolor": "white",
            "ticks": ""
           }
          },
          "scene": {
           "xaxis": {
            "backgroundcolor": "#E5ECF6",
            "gridcolor": "white",
            "gridwidth": 2,
            "linecolor": "white",
            "showbackground": true,
            "ticks": "",
            "zerolinecolor": "white"
           },
           "yaxis": {
            "backgroundcolor": "#E5ECF6",
            "gridcolor": "white",
            "gridwidth": 2,
            "linecolor": "white",
            "showbackground": true,
            "ticks": "",
            "zerolinecolor": "white"
           },
           "zaxis": {
            "backgroundcolor": "#E5ECF6",
            "gridcolor": "white",
            "gridwidth": 2,
            "linecolor": "white",
            "showbackground": true,
            "ticks": "",
            "zerolinecolor": "white"
           }
          },
          "shapedefaults": {
           "line": {
            "color": "#2a3f5f"
           }
          },
          "ternary": {
           "aaxis": {
            "gridcolor": "white",
            "linecolor": "white",
            "ticks": ""
           },
           "baxis": {
            "gridcolor": "white",
            "linecolor": "white",
            "ticks": ""
           },
           "bgcolor": "#E5ECF6",
           "caxis": {
            "gridcolor": "white",
            "linecolor": "white",
            "ticks": ""
           }
          },
          "title": {
           "x": 0.05
          },
          "xaxis": {
           "automargin": true,
           "gridcolor": "white",
           "linecolor": "white",
           "ticks": "",
           "title": {
            "standoff": 15
           },
           "zerolinecolor": "white",
           "zerolinewidth": 2
          },
          "yaxis": {
           "automargin": true,
           "gridcolor": "white",
           "linecolor": "white",
           "ticks": "",
           "title": {
            "standoff": 15
           },
           "zerolinecolor": "white",
           "zerolinewidth": 2
          }
         }
        },
        "width": 1200,
        "xaxis": {
         "anchor": "y",
         "domain": [
          0,
          0.45
         ]
        },
        "xaxis2": {
         "anchor": "y2",
         "domain": [
          0.55,
          1
         ]
        },
        "yaxis": {
         "anchor": "x",
         "domain": [
          0,
          1
         ]
        },
        "yaxis2": {
         "anchor": "x2",
         "domain": [
          0,
          1
         ]
        }
       }
      }
     },
     "metadata": {},
     "output_type": "display_data"
    }
   ],
   "source": [
    "sim_QC = cosine_similarity(dfQC.iloc[:, 1:], dfQC.iloc[:, 1:])\n",
    "sim_QT = cosine_similarity(dfQT.iloc[:, 1:], dfQT.iloc[:, 1:])\n",
    "\n",
    "fig1 = px.imshow(sim_QC,\n",
    "                x=dfQC.index,\n",
    "                y=dfQC.index,\n",
    "                labels=dict(x='Document', y='Document', color='Similarity'),\n",
    "                color_continuous_scale='Viridis')\n",
    "fig1.update_layout(title=\"Cosine Similarity between Wikipedia Pages' Contents\",\n",
    "                  xaxis_title='Document',\n",
    "                  yaxis_title='Document',\n",
    "                  width=800,\n",
    "                  height=600)\n",
    "\n",
    "fig2 = px.imshow(sim_QT,\n",
    "                x=dfQT.index,\n",
    "                y=dfQT.index,\n",
    "                labels=dict(x='Document', y='Document', color='Similarity'),\n",
    "                color_continuous_scale='Viridis')\n",
    "fig2.update_layout(title=\"Cosine Similarity between Wikipedia Pages' Titles\",\n",
    "                  xaxis_title='Document',\n",
    "                  yaxis_title='Document',\n",
    "                  width=800,\n",
    "                  height=600)\n",
    "\n",
    "fig = make_subplots(rows=1, cols=2, subplot_titles=[\"Similarity of Contents of Query\", \"Similarity of Titles of Query\"])\n",
    "fig.add_trace(fig1.data[0], row=1, col=1)\n",
    "fig.add_trace(fig2.data[0], row=1, col=2)\n",
    "fig.update_layout(width=1200, height=600, showlegend=False)\n",
    "fig.show()"
   ]
  },
  {
   "cell_type": "markdown",
   "metadata": {},
   "source": [
    "### KMeans\n",
    "We can clearly see that Q2 and Q3 both have absolutely 0 similarity to other titles, and slightly lower similarity in terms of contents. Thus making it obvious that the user most likely is not interested in given webpages, as the rest of the pages are more correlated to each other and there are more of them in total.\n",
    "\n",
    "Thus performing the KMeans algorithm (the algorithm will run only if the query has received at least 3 links)."
   ]
  },
  {
   "cell_type": "code",
   "execution_count": 10,
   "metadata": {},
   "outputs": [
    {
     "data": {
      "text/html": [
       "<div>\n",
       "<style scoped>\n",
       "    .dataframe tbody tr th:only-of-type {\n",
       "        vertical-align: middle;\n",
       "    }\n",
       "\n",
       "    .dataframe tbody tr th {\n",
       "        vertical-align: top;\n",
       "    }\n",
       "\n",
       "    .dataframe thead th {\n",
       "        text-align: right;\n",
       "    }\n",
       "</style>\n",
       "<table border=\"1\" class=\"dataframe\">\n",
       "  <thead>\n",
       "    <tr style=\"text-align: right;\">\n",
       "      <th></th>\n",
       "      <th>URL</th>\n",
       "      <th>00</th>\n",
       "      <th>000</th>\n",
       "      <th>01</th>\n",
       "      <th>02</th>\n",
       "      <th>03</th>\n",
       "      <th>04</th>\n",
       "      <th>05</th>\n",
       "      <th>06</th>\n",
       "      <th>07</th>\n",
       "      <th>...</th>\n",
       "      <th>younger</th>\n",
       "      <th>youngest</th>\n",
       "      <th>your</th>\n",
       "      <th>youth</th>\n",
       "      <th>youtube</th>\n",
       "      <th>yugoslavia</th>\n",
       "      <th>zealand</th>\n",
       "      <th>zero</th>\n",
       "      <th>zone</th>\n",
       "      <th>zones</th>\n",
       "    </tr>\n",
       "  </thead>\n",
       "  <tbody>\n",
       "    <tr>\n",
       "      <th>Q0</th>\n",
       "      <td>https://en.wikipedia.org/wiki/Poland</td>\n",
       "      <td>0.0</td>\n",
       "      <td>0.01766087475896832</td>\n",
       "      <td>0.0</td>\n",
       "      <td>0.0</td>\n",
       "      <td>0.0</td>\n",
       "      <td>0.0</td>\n",
       "      <td>0.0</td>\n",
       "      <td>0.0</td>\n",
       "      <td>0.0</td>\n",
       "      <td>...</td>\n",
       "      <td>0.0017689933350259364</td>\n",
       "      <td>0.0</td>\n",
       "      <td>0.0</td>\n",
       "      <td>0.0019411728896623446</td>\n",
       "      <td>0.0</td>\n",
       "      <td>0.0</td>\n",
       "      <td>0.0</td>\n",
       "      <td>0.0</td>\n",
       "      <td>0.0</td>\n",
       "      <td>0.004498280079552472</td>\n",
       "    </tr>\n",
       "    <tr>\n",
       "      <th>Q1</th>\n",
       "      <td>https://en.wikipedia.org/wiki/Flag_of_Poland</td>\n",
       "      <td>0.0</td>\n",
       "      <td>0.0</td>\n",
       "      <td>0.0</td>\n",
       "      <td>0.0</td>\n",
       "      <td>0.0</td>\n",
       "      <td>0.0</td>\n",
       "      <td>0.0</td>\n",
       "      <td>0.0</td>\n",
       "      <td>0.0</td>\n",
       "      <td>...</td>\n",
       "      <td>0.0</td>\n",
       "      <td>0.0</td>\n",
       "      <td>0.0</td>\n",
       "      <td>0.0</td>\n",
       "      <td>0.0</td>\n",
       "      <td>0.0</td>\n",
       "      <td>0.0</td>\n",
       "      <td>0.0</td>\n",
       "      <td>0.0</td>\n",
       "      <td>0.0</td>\n",
       "    </tr>\n",
       "    <tr>\n",
       "      <th>Q2</th>\n",
       "      <td>https://en.wikipedia.org/wiki/Vampire</td>\n",
       "      <td>0.0</td>\n",
       "      <td>0.0</td>\n",
       "      <td>0.0</td>\n",
       "      <td>0.0</td>\n",
       "      <td>0.0</td>\n",
       "      <td>0.0</td>\n",
       "      <td>0.0</td>\n",
       "      <td>0.0</td>\n",
       "      <td>0.0</td>\n",
       "      <td>...</td>\n",
       "      <td>0.0</td>\n",
       "      <td>0.0</td>\n",
       "      <td>0.0</td>\n",
       "      <td>0.003437724309066045</td>\n",
       "      <td>0.0</td>\n",
       "      <td>0.0</td>\n",
       "      <td>0.0</td>\n",
       "      <td>0.0</td>\n",
       "      <td>0.0</td>\n",
       "      <td>0.0</td>\n",
       "    </tr>\n",
       "    <tr>\n",
       "      <th>Q4</th>\n",
       "      <td>https://en.wikipedia.org/wiki/Coat_of_arms_of_...</td>\n",
       "      <td>0.0</td>\n",
       "      <td>0.0</td>\n",
       "      <td>0.0</td>\n",
       "      <td>0.0</td>\n",
       "      <td>0.0</td>\n",
       "      <td>0.0</td>\n",
       "      <td>0.0</td>\n",
       "      <td>0.0</td>\n",
       "      <td>0.0</td>\n",
       "      <td>...</td>\n",
       "      <td>0.0</td>\n",
       "      <td>0.0</td>\n",
       "      <td>0.0</td>\n",
       "      <td>0.0</td>\n",
       "      <td>0.0</td>\n",
       "      <td>0.0</td>\n",
       "      <td>0.0</td>\n",
       "      <td>0.0</td>\n",
       "      <td>0.0</td>\n",
       "      <td>0.0</td>\n",
       "    </tr>\n",
       "  </tbody>\n",
       "</table>\n",
       "<p>4 rows × 9295 columns</p>\n",
       "</div>"
      ],
      "text/plain": [
       "                                                  URL   00  \\\n",
       "Q0               https://en.wikipedia.org/wiki/Poland  0.0   \n",
       "Q1       https://en.wikipedia.org/wiki/Flag_of_Poland  0.0   \n",
       "Q2              https://en.wikipedia.org/wiki/Vampire  0.0   \n",
       "Q4  https://en.wikipedia.org/wiki/Coat_of_arms_of_...  0.0   \n",
       "\n",
       "                    000   01   02   03   04   05   06   07  ...  \\\n",
       "Q0  0.01766087475896832  0.0  0.0  0.0  0.0  0.0  0.0  0.0  ...   \n",
       "Q1                  0.0  0.0  0.0  0.0  0.0  0.0  0.0  0.0  ...   \n",
       "Q2                  0.0  0.0  0.0  0.0  0.0  0.0  0.0  0.0  ...   \n",
       "Q4                  0.0  0.0  0.0  0.0  0.0  0.0  0.0  0.0  ...   \n",
       "\n",
       "                  younger youngest your                  youth youtube  \\\n",
       "Q0  0.0017689933350259364      0.0  0.0  0.0019411728896623446     0.0   \n",
       "Q1                    0.0      0.0  0.0                    0.0     0.0   \n",
       "Q2                    0.0      0.0  0.0   0.003437724309066045     0.0   \n",
       "Q4                    0.0      0.0  0.0                    0.0     0.0   \n",
       "\n",
       "   yugoslavia zealand zero zone                 zones  \n",
       "Q0        0.0     0.0  0.0  0.0  0.004498280079552472  \n",
       "Q1        0.0     0.0  0.0  0.0                   0.0  \n",
       "Q2        0.0     0.0  0.0  0.0                   0.0  \n",
       "Q4        0.0     0.0  0.0  0.0                   0.0  \n",
       "\n",
       "[4 rows x 9295 columns]"
      ]
     },
     "execution_count": 10,
     "metadata": {},
     "output_type": "execute_result"
    }
   ],
   "source": [
    "if len(query) > 2:    \n",
    "    num_clusters = 2\n",
    "    kmeans = KMeans(n_clusters=num_clusters, n_init='auto')\n",
    "    kmeans.fit(dfQC.iloc[:, 1:])\n",
    "    cluster_labels = kmeans.labels_\n",
    "    category1 = [f'Q{i}' for i in range(len(query)) if cluster_labels[i] == 0]\n",
    "    category2 = [f'Q{i}' for i in range(len(query)) if cluster_labels[i] == 1]\n",
    "else:\n",
    "    category1 = [f'Q{i}' for i in range(len(query))]\n",
    "    category2 = []\n",
    "\n",
    "if len(category1) > len(category2):\n",
    "    dfQTC = dfQT[~dfQT.index.isin(category2)]\n",
    "    dfQCC = dfQC[~dfQC.index.isin(category2)]\n",
    "else:\n",
    "    dfQTC = dfQT[~dfQT.index.isin(category1)]\n",
    "    dfQCC = dfQC[~dfQC.index.isin(category1)]\n",
    "\n",
    "dfQCC"
   ]
  },
  {
   "cell_type": "markdown",
   "metadata": {},
   "source": [
    "### Cosine similarity of contents\n",
    "Then based on the links left after the KMeans algorithm has chosen the larger group, we calculate the average of cosine similarity of contents between each element in the database and each element of the query. We first consider the contents as they are the most informative. Additionally, we receive only the top results, and based on the number of recommendations cut the whole database to be at most $1.5 * numberOfRecommendationsToBeMade$. For a single element of database D the similarity of its content with the whole query content is given by: $\\frac{\\sum_{i=1}^{len(query)} cosSim(Q_i, D)} {len(query)} $"
   ]
  },
  {
   "cell_type": "code",
   "execution_count": 11,
   "metadata": {},
   "outputs": [
    {
     "name": "stdout",
     "output_type": "stream",
     "text": [
      "1170          https://en.wikipedia.org/wiki/Poland\n",
      "1174          https://en.wikipedia.org/wiki/Warsaw\n",
      "774          https://en.wikipedia.org/wiki/Albania\n",
      "785           https://en.wikipedia.org/wiki/Jordan\n",
      "792          https://en.wikipedia.org/wiki/Bolivia\n",
      "692         https://en.wikipedia.org/wiki/Florence\n",
      "1163    https://en.wikipedia.org/wiki/Nysa,_Poland\n",
      "10           https://en.wikipedia.org/wiki/England\n",
      "955           https://en.wikipedia.org/wiki/Europe\n",
      "76            https://en.wikipedia.org/wiki/Surrey\n",
      "1070        https://en.wikipedia.org/wiki/Cherokee\n",
      "938     https://en.wikipedia.org/wiki/Polish_zloty\n",
      "1162           https://en.wikipedia.org/wiki/Cairo\n",
      "582           https://en.wikipedia.org/wiki/Vienna\n",
      "1134       https://en.wikipedia.org/wiki/Astrology\n",
      "Name: URL, dtype: object\n"
     ]
    }
   ],
   "source": [
    "result = np.mean(cosine_similarity(dfC.iloc[:, 1:], dfQCC.iloc[:, 1:]), axis = 1)\n",
    "sorted_indices = np.argsort(result)[::-1]\n",
    "contents = result[sorted_indices[:round(number_of_recomendations * 1.5)]]\n",
    "top_n_indexes = sorted_indices[:round(number_of_recomendations * 1.5)]\n",
    "print(dfC.loc[top_n_indexes][\"URL\"])"
   ]
  },
  {
   "cell_type": "markdown",
   "metadata": {},
   "source": [
    "### Cosine similarity of titles\n",
    "Above we can see all the database recommended solutions, now to cut it and order it even more we actually will consider the titles similiarity. It might not change anything but it is worth a try as sometimes it can influence the results in a big way. After this operation the database needs to be ordered, as the number of positions is limited to the number of recommendations already."
   ]
  },
  {
   "cell_type": "code",
   "execution_count": 12,
   "metadata": {},
   "outputs": [
    {
     "data": {
      "text/html": [
       "<div>\n",
       "<style scoped>\n",
       "    .dataframe tbody tr th:only-of-type {\n",
       "        vertical-align: middle;\n",
       "    }\n",
       "\n",
       "    .dataframe tbody tr th {\n",
       "        vertical-align: top;\n",
       "    }\n",
       "\n",
       "    .dataframe thead th {\n",
       "        text-align: right;\n",
       "    }\n",
       "</style>\n",
       "<table border=\"1\" class=\"dataframe\">\n",
       "  <thead>\n",
       "    <tr style=\"text-align: right;\">\n",
       "      <th></th>\n",
       "      <th>URL</th>\n",
       "      <th>RecommendationValue</th>\n",
       "      <th>ContentSimilarity</th>\n",
       "      <th>TitleSimilarity</th>\n",
       "    </tr>\n",
       "  </thead>\n",
       "  <tbody>\n",
       "    <tr>\n",
       "      <th>1170</th>\n",
       "      <td>https://en.wikipedia.org/wiki/Poland</td>\n",
       "      <td>1.447672</td>\n",
       "      <td>0.798507</td>\n",
       "      <td>0.649165</td>\n",
       "    </tr>\n",
       "    <tr>\n",
       "      <th>1163</th>\n",
       "      <td>https://en.wikipedia.org/wiki/Nysa,_Poland</td>\n",
       "      <td>1.357296</td>\n",
       "      <td>0.708131</td>\n",
       "      <td>0.649165</td>\n",
       "    </tr>\n",
       "    <tr>\n",
       "      <th>1174</th>\n",
       "      <td>https://en.wikipedia.org/wiki/Warsaw</td>\n",
       "      <td>0.755972</td>\n",
       "      <td>0.755972</td>\n",
       "      <td>0.000000</td>\n",
       "    </tr>\n",
       "    <tr>\n",
       "      <th>774</th>\n",
       "      <td>https://en.wikipedia.org/wiki/Albania</td>\n",
       "      <td>0.735738</td>\n",
       "      <td>0.735738</td>\n",
       "      <td>0.000000</td>\n",
       "    </tr>\n",
       "    <tr>\n",
       "      <th>785</th>\n",
       "      <td>https://en.wikipedia.org/wiki/Jordan</td>\n",
       "      <td>0.717556</td>\n",
       "      <td>0.717556</td>\n",
       "      <td>0.000000</td>\n",
       "    </tr>\n",
       "    <tr>\n",
       "      <th>792</th>\n",
       "      <td>https://en.wikipedia.org/wiki/Bolivia</td>\n",
       "      <td>0.715013</td>\n",
       "      <td>0.715013</td>\n",
       "      <td>0.000000</td>\n",
       "    </tr>\n",
       "    <tr>\n",
       "      <th>692</th>\n",
       "      <td>https://en.wikipedia.org/wiki/Florence</td>\n",
       "      <td>0.714920</td>\n",
       "      <td>0.714920</td>\n",
       "      <td>0.000000</td>\n",
       "    </tr>\n",
       "    <tr>\n",
       "      <th>10</th>\n",
       "      <td>https://en.wikipedia.org/wiki/England</td>\n",
       "      <td>0.707228</td>\n",
       "      <td>0.707228</td>\n",
       "      <td>0.000000</td>\n",
       "    </tr>\n",
       "    <tr>\n",
       "      <th>955</th>\n",
       "      <td>https://en.wikipedia.org/wiki/Europe</td>\n",
       "      <td>0.705343</td>\n",
       "      <td>0.705343</td>\n",
       "      <td>0.000000</td>\n",
       "    </tr>\n",
       "    <tr>\n",
       "      <th>76</th>\n",
       "      <td>https://en.wikipedia.org/wiki/Surrey</td>\n",
       "      <td>0.703986</td>\n",
       "      <td>0.703986</td>\n",
       "      <td>0.000000</td>\n",
       "    </tr>\n",
       "  </tbody>\n",
       "</table>\n",
       "</div>"
      ],
      "text/plain": [
       "                                             URL  RecommendationValue  \\\n",
       "1170        https://en.wikipedia.org/wiki/Poland             1.447672   \n",
       "1163  https://en.wikipedia.org/wiki/Nysa,_Poland             1.357296   \n",
       "1174        https://en.wikipedia.org/wiki/Warsaw             0.755972   \n",
       "774        https://en.wikipedia.org/wiki/Albania             0.735738   \n",
       "785         https://en.wikipedia.org/wiki/Jordan             0.717556   \n",
       "792        https://en.wikipedia.org/wiki/Bolivia             0.715013   \n",
       "692       https://en.wikipedia.org/wiki/Florence             0.714920   \n",
       "10         https://en.wikipedia.org/wiki/England             0.707228   \n",
       "955         https://en.wikipedia.org/wiki/Europe             0.705343   \n",
       "76          https://en.wikipedia.org/wiki/Surrey             0.703986   \n",
       "\n",
       "      ContentSimilarity  TitleSimilarity  \n",
       "1170           0.798507         0.649165  \n",
       "1163           0.708131         0.649165  \n",
       "1174           0.755972         0.000000  \n",
       "774            0.735738         0.000000  \n",
       "785            0.717556         0.000000  \n",
       "792            0.715013         0.000000  \n",
       "692            0.714920         0.000000  \n",
       "10             0.707228         0.000000  \n",
       "955            0.705343         0.000000  \n",
       "76             0.703986         0.000000  "
      ]
     },
     "execution_count": 12,
     "metadata": {},
     "output_type": "execute_result"
    }
   ],
   "source": [
    "titles = np.mean(cosine_similarity(dfT.iloc[:, 1:].loc[top_n_indexes], dfQTC.iloc[:, 1:]), axis = 1)\n",
    "values = titles + contents\n",
    "urls = dfC.loc[top_n_indexes][\"URL\"]\n",
    "recommendations = pd.DataFrame({'URL': urls, 'RecommendationValue': values, 'ContentSimilarity': contents, 'TitleSimilarity': titles})\n",
    "recommendations = recommendations.sort_values(by='RecommendationValue', ascending=False)\n",
    "recommendations = recommendations.head(number_of_recomendations)\n",
    "recommendations"
   ]
  },
  {
   "cell_type": "markdown",
   "metadata": {},
   "source": [
    "### Ordering based on link number\n",
    "In addition, we have decided that it would be beneficial for Wikipedia to provide the pages with the biggest number of external links as that would result in the highest possibility of a user continuing to search on their website. Thus once again we visit the very limited number of webpages and count the number of \\<a> tags in the html. Thus we order the whole list of recommendations based on the following formula: $\\frac{(content\\_similarity(D) + title\\_similarity(D)) * (1 + normalized(number\\_of\\_links))} {4}$"
   ]
  },
  {
   "cell_type": "code",
   "execution_count": 13,
   "metadata": {},
   "outputs": [
    {
     "name": "stdout",
     "output_type": "stream",
     "text": [
      "[0.9759482  0.         0.8640148  0.98982424 0.72779833 0.52358927\n",
      " 0.45212766 0.92044403 1.         0.43432007]\n"
     ]
    }
   ],
   "source": [
    "def getLinks(url):\n",
    "    try:\n",
    "        response = requests.get(url)\n",
    "        if response.status_code == 200:\n",
    "            soup = BeautifulSoup(response.text, 'html.parser')\n",
    "            links = soup.find_all('a')\n",
    "            return len(links)\n",
    "        else:\n",
    "            return 0 \n",
    "    except Exception as e:\n",
    "        print(f\"An error occurred: {e}\")\n",
    "        return 0\n",
    "    \n",
    "\n",
    "links = []\n",
    "\n",
    "for i in recommendations['URL']:\n",
    "    links += [getLinks(i)]\n",
    "links = np.array(links)\n",
    "if len(links) > 0:\n",
    "        links_norm = (links - links.min()) / (links.max() - links.min())\n",
    "else:\n",
    "    links_norm = 0\n",
    "print(links_norm)"
   ]
  },
  {
   "cell_type": "markdown",
   "metadata": {},
   "source": [
    "### Final recommendations\n",
    "Below we order the list of all recommendations based on the final formula. The results may be slightly worse in terms of accuracy, but it ensures that the user will continue to use wikipedia longer, by providing webpages with the highest number of links first. This dataframe perfectly shows how the decision was made, and all step by step calculations are available. "
   ]
  },
  {
   "cell_type": "code",
   "execution_count": 14,
   "metadata": {},
   "outputs": [
    {
     "data": {
      "text/html": [
       "<div>\n",
       "<style scoped>\n",
       "    .dataframe tbody tr th:only-of-type {\n",
       "        vertical-align: middle;\n",
       "    }\n",
       "\n",
       "    .dataframe tbody tr th {\n",
       "        vertical-align: top;\n",
       "    }\n",
       "\n",
       "    .dataframe thead th {\n",
       "        text-align: right;\n",
       "    }\n",
       "</style>\n",
       "<table border=\"1\" class=\"dataframe\">\n",
       "  <thead>\n",
       "    <tr style=\"text-align: right;\">\n",
       "      <th></th>\n",
       "      <th>URL</th>\n",
       "      <th>RecommendationValue</th>\n",
       "      <th>ContentSimilarity</th>\n",
       "      <th>TitleSimilarity</th>\n",
       "      <th>LinksNrNorm</th>\n",
       "    </tr>\n",
       "  </thead>\n",
       "  <tbody>\n",
       "    <tr>\n",
       "      <th>1170</th>\n",
       "      <td>https://en.wikipedia.org/wiki/Poland</td>\n",
       "      <td>0.715131</td>\n",
       "      <td>0.798507</td>\n",
       "      <td>0.649165</td>\n",
       "      <td>0.975948</td>\n",
       "    </tr>\n",
       "    <tr>\n",
       "      <th>774</th>\n",
       "      <td>https://en.wikipedia.org/wiki/Albania</td>\n",
       "      <td>0.365997</td>\n",
       "      <td>0.735738</td>\n",
       "      <td>0.000000</td>\n",
       "      <td>0.989824</td>\n",
       "    </tr>\n",
       "    <tr>\n",
       "      <th>955</th>\n",
       "      <td>https://en.wikipedia.org/wiki/Europe</td>\n",
       "      <td>0.352671</td>\n",
       "      <td>0.705343</td>\n",
       "      <td>0.000000</td>\n",
       "      <td>1.000000</td>\n",
       "    </tr>\n",
       "    <tr>\n",
       "      <th>1174</th>\n",
       "      <td>https://en.wikipedia.org/wiki/Warsaw</td>\n",
       "      <td>0.352286</td>\n",
       "      <td>0.755972</td>\n",
       "      <td>0.000000</td>\n",
       "      <td>0.864015</td>\n",
       "    </tr>\n",
       "    <tr>\n",
       "      <th>10</th>\n",
       "      <td>https://en.wikipedia.org/wiki/England</td>\n",
       "      <td>0.339548</td>\n",
       "      <td>0.707228</td>\n",
       "      <td>0.000000</td>\n",
       "      <td>0.920444</td>\n",
       "    </tr>\n",
       "    <tr>\n",
       "      <th>1163</th>\n",
       "      <td>https://en.wikipedia.org/wiki/Nysa,_Poland</td>\n",
       "      <td>0.339324</td>\n",
       "      <td>0.708131</td>\n",
       "      <td>0.649165</td>\n",
       "      <td>0.000000</td>\n",
       "    </tr>\n",
       "    <tr>\n",
       "      <th>785</th>\n",
       "      <td>https://en.wikipedia.org/wiki/Jordan</td>\n",
       "      <td>0.309948</td>\n",
       "      <td>0.717556</td>\n",
       "      <td>0.000000</td>\n",
       "      <td>0.727798</td>\n",
       "    </tr>\n",
       "    <tr>\n",
       "      <th>792</th>\n",
       "      <td>https://en.wikipedia.org/wiki/Bolivia</td>\n",
       "      <td>0.272347</td>\n",
       "      <td>0.715013</td>\n",
       "      <td>0.000000</td>\n",
       "      <td>0.523589</td>\n",
       "    </tr>\n",
       "    <tr>\n",
       "      <th>692</th>\n",
       "      <td>https://en.wikipedia.org/wiki/Florence</td>\n",
       "      <td>0.259539</td>\n",
       "      <td>0.714920</td>\n",
       "      <td>0.000000</td>\n",
       "      <td>0.452128</td>\n",
       "    </tr>\n",
       "    <tr>\n",
       "      <th>76</th>\n",
       "      <td>https://en.wikipedia.org/wiki/Surrey</td>\n",
       "      <td>0.252435</td>\n",
       "      <td>0.703986</td>\n",
       "      <td>0.000000</td>\n",
       "      <td>0.434320</td>\n",
       "    </tr>\n",
       "  </tbody>\n",
       "</table>\n",
       "</div>"
      ],
      "text/plain": [
       "                                             URL  RecommendationValue  \\\n",
       "1170        https://en.wikipedia.org/wiki/Poland             0.715131   \n",
       "774        https://en.wikipedia.org/wiki/Albania             0.365997   \n",
       "955         https://en.wikipedia.org/wiki/Europe             0.352671   \n",
       "1174        https://en.wikipedia.org/wiki/Warsaw             0.352286   \n",
       "10         https://en.wikipedia.org/wiki/England             0.339548   \n",
       "1163  https://en.wikipedia.org/wiki/Nysa,_Poland             0.339324   \n",
       "785         https://en.wikipedia.org/wiki/Jordan             0.309948   \n",
       "792        https://en.wikipedia.org/wiki/Bolivia             0.272347   \n",
       "692       https://en.wikipedia.org/wiki/Florence             0.259539   \n",
       "76          https://en.wikipedia.org/wiki/Surrey             0.252435   \n",
       "\n",
       "      ContentSimilarity  TitleSimilarity  LinksNrNorm  \n",
       "1170           0.798507         0.649165     0.975948  \n",
       "774            0.735738         0.000000     0.989824  \n",
       "955            0.705343         0.000000     1.000000  \n",
       "1174           0.755972         0.000000     0.864015  \n",
       "10             0.707228         0.000000     0.920444  \n",
       "1163           0.708131         0.649165     0.000000  \n",
       "785            0.717556         0.000000     0.727798  \n",
       "792            0.715013         0.000000     0.523589  \n",
       "692            0.714920         0.000000     0.452128  \n",
       "76             0.703986         0.000000     0.434320  "
      ]
     },
     "execution_count": 14,
     "metadata": {},
     "output_type": "execute_result"
    }
   ],
   "source": [
    "recommendations['LinksNrNorm'] = links_norm\n",
    "recommendations['RecommendationValue'] = (recommendations['ContentSimilarity'] + recommendations['TitleSimilarity']) * (1 + recommendations['LinksNrNorm']) / 4\n",
    "recommendations = recommendations.sort_values(by='RecommendationValue', ascending=False)\n",
    "recommendations"
   ]
  },
  {
   "cell_type": "markdown",
   "metadata": {},
   "source": [
    "Defining the method for easier use of the whole recommendatiuon system."
   ]
  },
  {
   "cell_type": "code",
   "execution_count": 15,
   "metadata": {},
   "outputs": [],
   "source": [
    "def recommend(query, num_of_recomendations):\n",
    "    scrapper = OnePageScrapper()\n",
    "    dfQC = pd.DataFrame()\n",
    "    dfQT = pd.DataFrame()\n",
    "    for i in range(len(query)):\n",
    "        if not len(query) > 0 or not len(query[i]) > 0:\n",
    "            print(\"incorrect links provided\")\n",
    "            return 0, \"error\"\n",
    "        elif query[i][0:6] == 'https:':\n",
    "            res = scrapper.scrap_site(query[i]) # Scrape the given website in the query \n",
    "        else:\n",
    "            res = scrapper.scrap_site('https://en.wikipedia.org/wiki/' + query[i]) # Scrape the given website in the query \n",
    "        dfQT[f'Q{i}'] = np.append(query[i], res['title']) # divide it into title and content dataframes\n",
    "        dfQC[f'Q{i}'] = np.append(query[i], res['content'])\n",
    "    dfQC = dfQC.T\n",
    "    dfQT = dfQT.T\n",
    "    dfQC.columns = dfC.columns\n",
    "    dfQT.columns = dfT.columns\n",
    "\n",
    "    if len(query) > 2:    \n",
    "        num_clusters = 2\n",
    "        kmeans = KMeans(n_clusters=num_clusters, n_init='auto')\n",
    "        kmeans.fit(dfQC.iloc[:, 1:])\n",
    "        cluster_labels = kmeans.labels_\n",
    "        category1 = [f'Q{i}' for i in range(len(query)) if cluster_labels[i] == 0]\n",
    "        category2 = [f'Q{i}' for i in range(len(query)) if cluster_labels[i] == 1]\n",
    "    else:\n",
    "        category1 = [f'Q{i}' for i in range(len(query))]\n",
    "        category2 = []\n",
    "\n",
    "    if len(category1) > len(category2):\n",
    "        dfQTC = dfQT[~dfQT.index.isin(category2)]\n",
    "        dfQCC = dfQC[~dfQC.index.isin(category2)]\n",
    "        categorised = category1\n",
    "    else:\n",
    "        dfQTC = dfQT[~dfQT.index.isin(category1)]\n",
    "        dfQCC = dfQC[~dfQC.index.isin(category1)]\n",
    "        categorised = category2\n",
    "\n",
    "    result = np.mean(cosine_similarity(dfC.iloc[:, 1:], dfQCC.iloc[:, 1:]), axis = 1)\n",
    "    sorted_indices = np.argsort(result)[::-1]\n",
    "    contents = result[sorted_indices[:round(num_of_recomendations * 1.5)]]\n",
    "    top_n_indexes = sorted_indices[:round(num_of_recomendations * 1.5)]\n",
    "\n",
    "    titles = np.mean(cosine_similarity(dfT.iloc[:, 1:].loc[top_n_indexes], dfQTC.iloc[:, 1:]), axis = 1)\n",
    "    values = titles + contents\n",
    "    urls = dfC.loc[top_n_indexes][\"URL\"]\n",
    "    recommendations = pd.DataFrame({'URL': urls, 'RecommendationValue': values, 'ContentSimilarity': contents, 'TitleSimilarity': titles})\n",
    "    recommendations = recommendations.sort_values(by='RecommendationValue', ascending=False)\n",
    "    recommendations = recommendations.head(num_of_recomendations)\n",
    "    \n",
    "    links = []\n",
    "    for i in recommendations['URL']:\n",
    "        links += [getLinks(i)]\n",
    "    links = np.array(links)\n",
    "    if len(links) > 1:\n",
    "        links_norm = (links - links.min()) / (links.max() - links.min())\n",
    "    else:\n",
    "        links_norm = 1\n",
    "\n",
    "    recommendations['LinksNrNorm'] = links_norm\n",
    "    recommendations['RecommendationValue'] = (recommendations['ContentSimilarity'] + recommendations['TitleSimilarity']) * (1 + recommendations['LinksNrNorm']) / 4\n",
    "    recommendations = recommendations.sort_values(by='RecommendationValue', ascending=False)\n",
    "    return recommendations, categorised\n",
    "    "
   ]
  },
  {
   "cell_type": "markdown",
   "metadata": {},
   "source": [
    "### Testing\n",
    "\n",
    "Works for queries with single link."
   ]
  },
  {
   "cell_type": "code",
   "execution_count": 16,
   "metadata": {},
   "outputs": [
    {
     "name": "stdout",
     "output_type": "stream",
     "text": [
      "The predictions were based on the ['0'] links\n",
      "The most recommended element is https://en.wikipedia.org/wiki/Albania calculated with: \n",
      "content similarity = 0.795782076118417\n",
      "title similarity = 0.0 \n",
      "contentSim + titleSim = 0.795782076118417 \n",
      "1 + normalized number of links = 2.0 \n",
      "(titleSim + contentSim) * (1 + norm(nrLinks)) = 1.591564152236834 \n",
      "final result = [(titleSim + contentSim) * (1 + norm(nrLinks))] / 4 = 0.3978910380592085\n"
     ]
    },
    {
     "data": {
      "text/html": [
       "<div>\n",
       "<style scoped>\n",
       "    .dataframe tbody tr th:only-of-type {\n",
       "        vertical-align: middle;\n",
       "    }\n",
       "\n",
       "    .dataframe tbody tr th {\n",
       "        vertical-align: top;\n",
       "    }\n",
       "\n",
       "    .dataframe thead th {\n",
       "        text-align: right;\n",
       "    }\n",
       "</style>\n",
       "<table border=\"1\" class=\"dataframe\">\n",
       "  <thead>\n",
       "    <tr style=\"text-align: right;\">\n",
       "      <th></th>\n",
       "      <th>URL</th>\n",
       "      <th>RecommendationValue</th>\n",
       "      <th>ContentSimilarity</th>\n",
       "      <th>TitleSimilarity</th>\n",
       "      <th>LinksNrNorm</th>\n",
       "    </tr>\n",
       "  </thead>\n",
       "  <tbody>\n",
       "    <tr>\n",
       "      <th>774</th>\n",
       "      <td>https://en.wikipedia.org/wiki/Albania</td>\n",
       "      <td>0.397891</td>\n",
       "      <td>0.795782</td>\n",
       "      <td>0.0</td>\n",
       "      <td>1.000000</td>\n",
       "    </tr>\n",
       "    <tr>\n",
       "      <th>10</th>\n",
       "      <td>https://en.wikipedia.org/wiki/England</td>\n",
       "      <td>0.370557</td>\n",
       "      <td>0.772315</td>\n",
       "      <td>0.0</td>\n",
       "      <td>0.919203</td>\n",
       "    </tr>\n",
       "    <tr>\n",
       "      <th>1174</th>\n",
       "      <td>https://en.wikipedia.org/wiki/Warsaw</td>\n",
       "      <td>0.356851</td>\n",
       "      <td>0.770117</td>\n",
       "      <td>0.0</td>\n",
       "      <td>0.853488</td>\n",
       "    </tr>\n",
       "    <tr>\n",
       "      <th>785</th>\n",
       "      <td>https://en.wikipedia.org/wiki/Jordan</td>\n",
       "      <td>0.334428</td>\n",
       "      <td>0.789277</td>\n",
       "      <td>0.0</td>\n",
       "      <td>0.694856</td>\n",
       "    </tr>\n",
       "    <tr>\n",
       "      <th>1162</th>\n",
       "      <td>https://en.wikipedia.org/wiki/Cairo</td>\n",
       "      <td>0.301888</td>\n",
       "      <td>0.769460</td>\n",
       "      <td>0.0</td>\n",
       "      <td>0.569351</td>\n",
       "    </tr>\n",
       "    <tr>\n",
       "      <th>792</th>\n",
       "      <td>https://en.wikipedia.org/wiki/Bolivia</td>\n",
       "      <td>0.284051</td>\n",
       "      <td>0.779801</td>\n",
       "      <td>0.0</td>\n",
       "      <td>0.457043</td>\n",
       "    </tr>\n",
       "    <tr>\n",
       "      <th>1134</th>\n",
       "      <td>https://en.wikipedia.org/wiki/Astrology</td>\n",
       "      <td>0.275714</td>\n",
       "      <td>0.788542</td>\n",
       "      <td>0.0</td>\n",
       "      <td>0.398600</td>\n",
       "    </tr>\n",
       "    <tr>\n",
       "      <th>692</th>\n",
       "      <td>https://en.wikipedia.org/wiki/Florence</td>\n",
       "      <td>0.269031</td>\n",
       "      <td>0.783308</td>\n",
       "      <td>0.0</td>\n",
       "      <td>0.373822</td>\n",
       "    </tr>\n",
       "    <tr>\n",
       "      <th>533</th>\n",
       "      <td>https://en.wikipedia.org/wiki/Hell</td>\n",
       "      <td>0.225755</td>\n",
       "      <td>0.785594</td>\n",
       "      <td>0.0</td>\n",
       "      <td>0.149475</td>\n",
       "    </tr>\n",
       "    <tr>\n",
       "      <th>814</th>\n",
       "      <td>https://en.wikipedia.org/wiki/Parody</td>\n",
       "      <td>0.194299</td>\n",
       "      <td>0.777195</td>\n",
       "      <td>0.0</td>\n",
       "      <td>0.000000</td>\n",
       "    </tr>\n",
       "  </tbody>\n",
       "</table>\n",
       "</div>"
      ],
      "text/plain": [
       "                                          URL  RecommendationValue  \\\n",
       "774     https://en.wikipedia.org/wiki/Albania             0.397891   \n",
       "10      https://en.wikipedia.org/wiki/England             0.370557   \n",
       "1174     https://en.wikipedia.org/wiki/Warsaw             0.356851   \n",
       "785      https://en.wikipedia.org/wiki/Jordan             0.334428   \n",
       "1162      https://en.wikipedia.org/wiki/Cairo             0.301888   \n",
       "792     https://en.wikipedia.org/wiki/Bolivia             0.284051   \n",
       "1134  https://en.wikipedia.org/wiki/Astrology             0.275714   \n",
       "692    https://en.wikipedia.org/wiki/Florence             0.269031   \n",
       "533        https://en.wikipedia.org/wiki/Hell             0.225755   \n",
       "814      https://en.wikipedia.org/wiki/Parody             0.194299   \n",
       "\n",
       "      ContentSimilarity  TitleSimilarity  LinksNrNorm  \n",
       "774            0.795782              0.0     1.000000  \n",
       "10             0.772315              0.0     0.919203  \n",
       "1174           0.770117              0.0     0.853488  \n",
       "785            0.789277              0.0     0.694856  \n",
       "1162           0.769460              0.0     0.569351  \n",
       "792            0.779801              0.0     0.457043  \n",
       "1134           0.788542              0.0     0.398600  \n",
       "692            0.783308              0.0     0.373822  \n",
       "533            0.785594              0.0     0.149475  \n",
       "814            0.777195              0.0     0.000000  "
      ]
     },
     "execution_count": 16,
     "metadata": {},
     "output_type": "execute_result"
    }
   ],
   "source": [
    "query = [\"https://en.wikipedia.org/wiki/Zombie\",]\n",
    "\n",
    "number_of_recomendations = 10\n",
    "\n",
    "df, based_on = recommend(query, number_of_recomendations)\n",
    "print(f\"The predictions were based on the {np.array([s[1:] for s in based_on])} links\")\n",
    "print(f\"The most recommended element is {df['URL'].iloc[0]} calculated with: \\ncontent similarity = {df['ContentSimilarity'].iloc[0]}\\ntitle similarity = {df['TitleSimilarity'].iloc[0]} \\ncontentSim + titleSim = {df['TitleSimilarity'].iloc[0] + df['ContentSimilarity'].iloc[0]} \\n1 + normalized number of links = {1 + df['LinksNrNorm'].iloc[0]} \\n(titleSim + contentSim) * (1 + norm(nrLinks)) = {(df['TitleSimilarity'].iloc[0] + df['ContentSimilarity'].iloc[0]) * (1 + df['LinksNrNorm'].iloc[0])} \\nfinal result = [(titleSim + contentSim) * (1 + norm(nrLinks))] / 4 = {df['RecommendationValue'].iloc[0]}\")\n",
    "df"
   ]
  },
  {
   "cell_type": "markdown",
   "metadata": {},
   "source": [
    "Also works for queries that are larger."
   ]
  },
  {
   "cell_type": "code",
   "execution_count": 17,
   "metadata": {},
   "outputs": [
    {
     "name": "stdout",
     "output_type": "stream",
     "text": [
      "The predictions were based on the ['0' '1' '4' '5'] links\n",
      "The most recommended element is https://en.wikipedia.org/wiki/Video_game_development calculated with: \n",
      "content similarity = 0.5824594382360946\n",
      "title similarity = 0.11003551439129027 \n",
      "contentSim + titleSim = 0.6924949526273848 \n",
      "1 + normalized number of links = 2.0 \n",
      "(titleSim + contentSim) * (1 + norm(nrLinks)) = 1.3849899052547696 \n",
      "final result = [(titleSim + contentSim) * (1 + norm(nrLinks))] / 4 = 0.3462474763136924\n"
     ]
    },
    {
     "data": {
      "text/html": [
       "<div>\n",
       "<style scoped>\n",
       "    .dataframe tbody tr th:only-of-type {\n",
       "        vertical-align: middle;\n",
       "    }\n",
       "\n",
       "    .dataframe tbody tr th {\n",
       "        vertical-align: top;\n",
       "    }\n",
       "\n",
       "    .dataframe thead th {\n",
       "        text-align: right;\n",
       "    }\n",
       "</style>\n",
       "<table border=\"1\" class=\"dataframe\">\n",
       "  <thead>\n",
       "    <tr style=\"text-align: right;\">\n",
       "      <th></th>\n",
       "      <th>URL</th>\n",
       "      <th>RecommendationValue</th>\n",
       "      <th>ContentSimilarity</th>\n",
       "      <th>TitleSimilarity</th>\n",
       "      <th>LinksNrNorm</th>\n",
       "    </tr>\n",
       "  </thead>\n",
       "  <tbody>\n",
       "    <tr>\n",
       "      <th>833</th>\n",
       "      <td>https://en.wikipedia.org/wiki/Video_game_devel...</td>\n",
       "      <td>0.346247</td>\n",
       "      <td>0.582459</td>\n",
       "      <td>0.110036</td>\n",
       "      <td>1.000000</td>\n",
       "    </tr>\n",
       "    <tr>\n",
       "      <th>509</th>\n",
       "      <td>https://en.wikipedia.org/wiki/Mass_Effect</td>\n",
       "      <td>0.279858</td>\n",
       "      <td>0.578458</td>\n",
       "      <td>0.000000</td>\n",
       "      <td>0.935204</td>\n",
       "    </tr>\n",
       "    <tr>\n",
       "      <th>512</th>\n",
       "      <td>https://en.wikipedia.org/wiki/Video_game_modding</td>\n",
       "      <td>0.260970</td>\n",
       "      <td>0.609028</td>\n",
       "      <td>0.136886</td>\n",
       "      <td>0.399466</td>\n",
       "    </tr>\n",
       "    <tr>\n",
       "      <th>992</th>\n",
       "      <td>https://en.wikipedia.org/wiki/Box_art</td>\n",
       "      <td>0.183093</td>\n",
       "      <td>0.588701</td>\n",
       "      <td>0.136886</td>\n",
       "      <td>0.009352</td>\n",
       "    </tr>\n",
       "    <tr>\n",
       "      <th>207</th>\n",
       "      <td>https://en.wikipedia.org/wiki/Zachtronics</td>\n",
       "      <td>0.150186</td>\n",
       "      <td>0.600744</td>\n",
       "      <td>0.000000</td>\n",
       "      <td>0.000000</td>\n",
       "    </tr>\n",
       "  </tbody>\n",
       "</table>\n",
       "</div>"
      ],
      "text/plain": [
       "                                                   URL  RecommendationValue  \\\n",
       "833  https://en.wikipedia.org/wiki/Video_game_devel...             0.346247   \n",
       "509          https://en.wikipedia.org/wiki/Mass_Effect             0.279858   \n",
       "512   https://en.wikipedia.org/wiki/Video_game_modding             0.260970   \n",
       "992              https://en.wikipedia.org/wiki/Box_art             0.183093   \n",
       "207          https://en.wikipedia.org/wiki/Zachtronics             0.150186   \n",
       "\n",
       "     ContentSimilarity  TitleSimilarity  LinksNrNorm  \n",
       "833           0.582459         0.110036     1.000000  \n",
       "509           0.578458         0.000000     0.935204  \n",
       "512           0.609028         0.136886     0.399466  \n",
       "992           0.588701         0.136886     0.009352  \n",
       "207           0.600744         0.000000     0.000000  "
      ]
     },
     "execution_count": 17,
     "metadata": {},
     "output_type": "execute_result"
    }
   ],
   "source": [
    "query = [\"https://en.wikipedia.org/wiki/Game\",\n",
    "         \"https://en.wikipedia.org/wiki/Steam_(service)\",\n",
    "         \"https://en.wikipedia.org/wiki/Epic_Games\",\n",
    "         \"https://en.wikipedia.org/wiki/Unreal_Engine\",\n",
    "         \"https://en.wikipedia.org/wiki/FromSoftware\",\n",
    "         'https://en.wikipedia.org/wiki/Capcom']\n",
    "\n",
    "number_of_recomendations = 5\n",
    "\n",
    "df, based_on = recommend(query, number_of_recomendations)\n",
    "print(f\"The predictions were based on the {np.array([s[1:] for s in based_on])} links\")\n",
    "print(f\"The most recommended element is {df['URL'].iloc[0]} calculated with: \\ncontent similarity = {df['ContentSimilarity'].iloc[0]}\\ntitle similarity = {df['TitleSimilarity'].iloc[0]} \\ncontentSim + titleSim = {df['TitleSimilarity'].iloc[0] + df['ContentSimilarity'].iloc[0]} \\n1 + normalized number of links = {1 + df['LinksNrNorm'].iloc[0]} \\n(titleSim + contentSim) * (1 + norm(nrLinks)) = {(df['TitleSimilarity'].iloc[0] + df['ContentSimilarity'].iloc[0]) * (1 + df['LinksNrNorm'].iloc[0])} \\nfinal result = [(titleSim + contentSim) * (1 + norm(nrLinks))] / 4 = {df['RecommendationValue'].iloc[0]}\")\n",
    "df"
   ]
  },
  {
   "cell_type": "markdown",
   "metadata": {},
   "source": [
    "Prints messages if an error was occured in the query name."
   ]
  },
  {
   "cell_type": "code",
   "execution_count": 18,
   "metadata": {},
   "outputs": [
    {
     "name": "stdout",
     "output_type": "stream",
     "text": [
      "incorrect links provided\n",
      "The predictions were based on the ['' '' '' '' ''] links\n"
     ]
    },
    {
     "data": {
      "text/plain": [
       "0"
      ]
     },
     "execution_count": 18,
     "metadata": {},
     "output_type": "execute_result"
    }
   ],
   "source": [
    "query = [\"\"]\n",
    "\n",
    "number_of_recomendations = 1\n",
    "\n",
    "df, based_on = recommend(query, number_of_recomendations)\n",
    "print(f\"The predictions were based on the {np.array([s[1:] for s in based_on])} links\")\n",
    "df"
   ]
  },
  {
   "cell_type": "markdown",
   "metadata": {},
   "source": [
    "## Creators\n",
    "* Kajetan Sulwiński (ekohachi22)\n",
    "* Mikołaj Marmurowicz (Mickeyo0o)"
   ]
  }
 ],
 "metadata": {
  "kernelspec": {
   "display_name": "Python 3",
   "language": "python",
   "name": "python3"
  },
  "language_info": {
   "codemirror_mode": {
    "name": "ipython",
    "version": 3
   },
   "file_extension": ".py",
   "mimetype": "text/x-python",
   "name": "python",
   "nbconvert_exporter": "python",
   "pygments_lexer": "ipython3",
   "version": "3.11.5"
  }
 },
 "nbformat": 4,
 "nbformat_minor": 2
}
